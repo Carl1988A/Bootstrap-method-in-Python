{
  "nbformat": 4,
  "nbformat_minor": 0,
  "metadata": {
    "kernelspec": {
      "display_name": "Python 3",
      "language": "python",
      "name": "python3"
    },
    "language_info": {
      "codemirror_mode": {
        "name": "ipython",
        "version": 3
      },
      "file_extension": ".py",
      "mimetype": "text/x-python",
      "name": "python",
      "nbconvert_exporter": "python",
      "pygments_lexer": "ipython3",
      "version": "3.7.3"
    },
    "colab": {
      "name": "Bootstrap exercise.ipynb",
      "provenance": [],
      "collapsed_sections": [],
      "include_colab_link": true
    }
  },
  "cells": [
    {
      "cell_type": "markdown",
      "metadata": {
        "id": "view-in-github",
        "colab_type": "text"
      },
      "source": [
        "<a href=\"https://colab.research.google.com/github/Carl1988A/Bootstrap-method-in-Python/blob/master/Bootstrap_exercise.ipynb\" target=\"_parent\"><img src=\"https://colab.research.google.com/assets/colab-badge.svg\" alt=\"Open In Colab\"/></a>"
      ]
    },
    {
      "cell_type": "markdown",
      "metadata": {
        "id": "2c2bsksd2cFH",
        "colab_type": "text"
      },
      "source": [
        "# **Applying Bootstrap Sampling for machine learning**\n",
        "\n",
        "\n",
        "The objective is to show is a way to build an empirical confidence interval in a machine learning project using Python.\n",
        "\n",
        "In inferential statistcs, confidence intervals play a major role when it comes to estimate the parameters of a population. Here is no different, using bootstrap, we can calculate a robust confidence interval and infer, for instance, that our model skill have a 95% likelihood of classification accuracy between 65% to 75%.  \n",
        "\n",
        "So, let's start things off.\n",
        "\n"
      ]
    },
    {
      "cell_type": "code",
      "metadata": {
        "id": "PIIxGiQlYSzU",
        "colab_type": "code",
        "colab": {}
      },
      "source": [
        "# Framework loading\n",
        "import numpy as np\n",
        "import pandas as pd\n",
        "from sklearn.utils import resample\n",
        "from sklearn.tree import DecisionTreeClassifier\n",
        "from sklearn.metrics import accuracy_score\n",
        "import matplotlib.pyplot as plt\n",
        "from sklearn.model_selection import train_test_split"
      ],
      "execution_count": 0,
      "outputs": []
    },
    {
      "cell_type": "code",
      "metadata": {
        "id": "HG1Ii5b9YSz-",
        "colab_type": "code",
        "outputId": "b5d11b25-c02e-4635-a413-3689f34f3fe7",
        "colab": {
          "base_uri": "https://localhost:8080/",
          "height": 204
        }
      },
      "source": [
        "#Data loading\n",
        "url = 'https://raw.githubusercontent.com/jbrownlee/Datasets/master/pima-indians-diabetes.data.csv'\n",
        "df = pd.read_csv(url)\n",
        "df.head()"
      ],
      "execution_count": 2,
      "outputs": [
        {
          "output_type": "execute_result",
          "data": {
            "text/html": [
              "<div>\n",
              "<style scoped>\n",
              "    .dataframe tbody tr th:only-of-type {\n",
              "        vertical-align: middle;\n",
              "    }\n",
              "\n",
              "    .dataframe tbody tr th {\n",
              "        vertical-align: top;\n",
              "    }\n",
              "\n",
              "    .dataframe thead th {\n",
              "        text-align: right;\n",
              "    }\n",
              "</style>\n",
              "<table border=\"1\" class=\"dataframe\">\n",
              "  <thead>\n",
              "    <tr style=\"text-align: right;\">\n",
              "      <th></th>\n",
              "      <th>6</th>\n",
              "      <th>148</th>\n",
              "      <th>72</th>\n",
              "      <th>35</th>\n",
              "      <th>0</th>\n",
              "      <th>33.6</th>\n",
              "      <th>0.627</th>\n",
              "      <th>50</th>\n",
              "      <th>1</th>\n",
              "    </tr>\n",
              "  </thead>\n",
              "  <tbody>\n",
              "    <tr>\n",
              "      <th>0</th>\n",
              "      <td>1</td>\n",
              "      <td>85</td>\n",
              "      <td>66</td>\n",
              "      <td>29</td>\n",
              "      <td>0</td>\n",
              "      <td>26.6</td>\n",
              "      <td>0.351</td>\n",
              "      <td>31</td>\n",
              "      <td>0</td>\n",
              "    </tr>\n",
              "    <tr>\n",
              "      <th>1</th>\n",
              "      <td>8</td>\n",
              "      <td>183</td>\n",
              "      <td>64</td>\n",
              "      <td>0</td>\n",
              "      <td>0</td>\n",
              "      <td>23.3</td>\n",
              "      <td>0.672</td>\n",
              "      <td>32</td>\n",
              "      <td>1</td>\n",
              "    </tr>\n",
              "    <tr>\n",
              "      <th>2</th>\n",
              "      <td>1</td>\n",
              "      <td>89</td>\n",
              "      <td>66</td>\n",
              "      <td>23</td>\n",
              "      <td>94</td>\n",
              "      <td>28.1</td>\n",
              "      <td>0.167</td>\n",
              "      <td>21</td>\n",
              "      <td>0</td>\n",
              "    </tr>\n",
              "    <tr>\n",
              "      <th>3</th>\n",
              "      <td>0</td>\n",
              "      <td>137</td>\n",
              "      <td>40</td>\n",
              "      <td>35</td>\n",
              "      <td>168</td>\n",
              "      <td>43.1</td>\n",
              "      <td>2.288</td>\n",
              "      <td>33</td>\n",
              "      <td>1</td>\n",
              "    </tr>\n",
              "    <tr>\n",
              "      <th>4</th>\n",
              "      <td>5</td>\n",
              "      <td>116</td>\n",
              "      <td>74</td>\n",
              "      <td>0</td>\n",
              "      <td>0</td>\n",
              "      <td>25.6</td>\n",
              "      <td>0.201</td>\n",
              "      <td>30</td>\n",
              "      <td>0</td>\n",
              "    </tr>\n",
              "  </tbody>\n",
              "</table>\n",
              "</div>"
            ],
            "text/plain": [
              "   6  148  72  35    0  33.6  0.627  50  1\n",
              "0  1   85  66  29    0  26.6  0.351  31  0\n",
              "1  8  183  64   0    0  23.3  0.672  32  1\n",
              "2  1   89  66  23   94  28.1  0.167  21  0\n",
              "3  0  137  40  35  168  43.1  2.288  33  1\n",
              "4  5  116  74   0    0  25.6  0.201  30  0"
            ]
          },
          "metadata": {
            "tags": []
          },
          "execution_count": 2
        }
      ]
    },
    {
      "cell_type": "code",
      "metadata": {
        "id": "oks-jqg4DrWU",
        "colab_type": "code",
        "outputId": "40947e5a-7eb0-400c-a3a5-f14a81c28fb2",
        "colab": {
          "base_uri": "https://localhost:8080/",
          "height": 34
        }
      },
      "source": [
        "#Check dataset shape\n",
        "df.shape"
      ],
      "execution_count": 3,
      "outputs": [
        {
          "output_type": "execute_result",
          "data": {
            "text/plain": [
              "(767, 9)"
            ]
          },
          "metadata": {
            "tags": []
          },
          "execution_count": 3
        }
      ]
    },
    {
      "cell_type": "code",
      "metadata": {
        "id": "eDpeOQi2YS0m",
        "colab_type": "code",
        "colab": {}
      },
      "source": [
        "# Applying column names\n",
        "# The column names can be found at: https://www.kaggle.com/uciml/pima-indians-diabetes-database\n",
        "\n",
        "columns =['Pregnancies', 'Glucose','BloodPressure', 'SkinThickness','Insulin','BMI','DiabetesPedigreeFunction','Age','Class']\n",
        "\n",
        "df.columns = columns"
      ],
      "execution_count": 0,
      "outputs": []
    },
    {
      "cell_type": "code",
      "metadata": {
        "id": "DEVk7jl5YS1I",
        "colab_type": "code",
        "outputId": "25ce1735-839c-43d5-d832-6ec21df700b8",
        "colab": {
          "base_uri": "https://localhost:8080/",
          "height": 204
        }
      },
      "source": [
        "df.head()"
      ],
      "execution_count": 5,
      "outputs": [
        {
          "output_type": "execute_result",
          "data": {
            "text/html": [
              "<div>\n",
              "<style scoped>\n",
              "    .dataframe tbody tr th:only-of-type {\n",
              "        vertical-align: middle;\n",
              "    }\n",
              "\n",
              "    .dataframe tbody tr th {\n",
              "        vertical-align: top;\n",
              "    }\n",
              "\n",
              "    .dataframe thead th {\n",
              "        text-align: right;\n",
              "    }\n",
              "</style>\n",
              "<table border=\"1\" class=\"dataframe\">\n",
              "  <thead>\n",
              "    <tr style=\"text-align: right;\">\n",
              "      <th></th>\n",
              "      <th>Pregnancies</th>\n",
              "      <th>Glucose</th>\n",
              "      <th>BloodPressure</th>\n",
              "      <th>SkinThickness</th>\n",
              "      <th>Insulin</th>\n",
              "      <th>BMI</th>\n",
              "      <th>DiabetesPedigreeFunction</th>\n",
              "      <th>Age</th>\n",
              "      <th>Class</th>\n",
              "    </tr>\n",
              "  </thead>\n",
              "  <tbody>\n",
              "    <tr>\n",
              "      <th>0</th>\n",
              "      <td>1</td>\n",
              "      <td>85</td>\n",
              "      <td>66</td>\n",
              "      <td>29</td>\n",
              "      <td>0</td>\n",
              "      <td>26.6</td>\n",
              "      <td>0.351</td>\n",
              "      <td>31</td>\n",
              "      <td>0</td>\n",
              "    </tr>\n",
              "    <tr>\n",
              "      <th>1</th>\n",
              "      <td>8</td>\n",
              "      <td>183</td>\n",
              "      <td>64</td>\n",
              "      <td>0</td>\n",
              "      <td>0</td>\n",
              "      <td>23.3</td>\n",
              "      <td>0.672</td>\n",
              "      <td>32</td>\n",
              "      <td>1</td>\n",
              "    </tr>\n",
              "    <tr>\n",
              "      <th>2</th>\n",
              "      <td>1</td>\n",
              "      <td>89</td>\n",
              "      <td>66</td>\n",
              "      <td>23</td>\n",
              "      <td>94</td>\n",
              "      <td>28.1</td>\n",
              "      <td>0.167</td>\n",
              "      <td>21</td>\n",
              "      <td>0</td>\n",
              "    </tr>\n",
              "    <tr>\n",
              "      <th>3</th>\n",
              "      <td>0</td>\n",
              "      <td>137</td>\n",
              "      <td>40</td>\n",
              "      <td>35</td>\n",
              "      <td>168</td>\n",
              "      <td>43.1</td>\n",
              "      <td>2.288</td>\n",
              "      <td>33</td>\n",
              "      <td>1</td>\n",
              "    </tr>\n",
              "    <tr>\n",
              "      <th>4</th>\n",
              "      <td>5</td>\n",
              "      <td>116</td>\n",
              "      <td>74</td>\n",
              "      <td>0</td>\n",
              "      <td>0</td>\n",
              "      <td>25.6</td>\n",
              "      <td>0.201</td>\n",
              "      <td>30</td>\n",
              "      <td>0</td>\n",
              "    </tr>\n",
              "  </tbody>\n",
              "</table>\n",
              "</div>"
            ],
            "text/plain": [
              "   Pregnancies  Glucose  BloodPressure  ...  DiabetesPedigreeFunction  Age  Class\n",
              "0            1       85             66  ...                     0.351   31      0\n",
              "1            8      183             64  ...                     0.672   32      1\n",
              "2            1       89             66  ...                     0.167   21      0\n",
              "3            0      137             40  ...                     2.288   33      1\n",
              "4            5      116             74  ...                     0.201   30      0\n",
              "\n",
              "[5 rows x 9 columns]"
            ]
          },
          "metadata": {
            "tags": []
          },
          "execution_count": 5
        }
      ]
    },
    {
      "cell_type": "code",
      "metadata": {
        "id": "KX8prsb1YS1m",
        "colab_type": "code",
        "outputId": "8e21f423-bba7-408b-d50a-cf438a44128c",
        "colab": {
          "base_uri": "https://localhost:8080/",
          "height": 221
        }
      },
      "source": [
        "# Checking whether or not the dataset carries null values\n",
        "print(\"Null observations : \\n\\n\",df.isnull().sum())"
      ],
      "execution_count": 6,
      "outputs": [
        {
          "output_type": "stream",
          "text": [
            "Null observations : \n",
            "\n",
            " Pregnancies                 0\n",
            "Glucose                     0\n",
            "BloodPressure               0\n",
            "SkinThickness               0\n",
            "Insulin                     0\n",
            "BMI                         0\n",
            "DiabetesPedigreeFunction    0\n",
            "Age                         0\n",
            "Class                       0\n",
            "dtype: int64\n"
          ],
          "name": "stdout"
        }
      ]
    },
    {
      "cell_type": "code",
      "metadata": {
        "id": "7lWnIZevvm2a",
        "colab_type": "code",
        "colab": {}
      },
      "source": [
        "# Applying Standardization\n",
        "# As the whole data set is being used to bootstrapping ,I'm not using StandardScaler.fit() function on the data to avoiding data knowledge leakage.\n",
        "# If I did, the distribution pattern would be the same for train/test splits, hence,the test data would be biased and then, the model would predict\n",
        "# over biased data as well.\n",
        "df_std = df.iloc[:,:-1]\n",
        "normalized_df=(df_std-df_std.mean())/df_std.std()"
      ],
      "execution_count": 0,
      "outputs": []
    },
    {
      "cell_type": "code",
      "metadata": {
        "id": "uQ9c26mgYS2G",
        "colab_type": "code",
        "outputId": "bf952303-3305-4c45-debe-55ce4c15e5a8",
        "colab": {
          "base_uri": "https://localhost:8080/",
          "height": 204
        }
      },
      "source": [
        "# Gathering target value into the dataset\n",
        "\n",
        "standard_df = pd.DataFrame(normalized_df)\n",
        "standard_df['class'] = df['Class']\n",
        "standard_df.head()"
      ],
      "execution_count": 8,
      "outputs": [
        {
          "output_type": "execute_result",
          "data": {
            "text/html": [
              "<div>\n",
              "<style scoped>\n",
              "    .dataframe tbody tr th:only-of-type {\n",
              "        vertical-align: middle;\n",
              "    }\n",
              "\n",
              "    .dataframe tbody tr th {\n",
              "        vertical-align: top;\n",
              "    }\n",
              "\n",
              "    .dataframe thead th {\n",
              "        text-align: right;\n",
              "    }\n",
              "</style>\n",
              "<table border=\"1\" class=\"dataframe\">\n",
              "  <thead>\n",
              "    <tr style=\"text-align: right;\">\n",
              "      <th></th>\n",
              "      <th>Pregnancies</th>\n",
              "      <th>Glucose</th>\n",
              "      <th>BloodPressure</th>\n",
              "      <th>SkinThickness</th>\n",
              "      <th>Insulin</th>\n",
              "      <th>BMI</th>\n",
              "      <th>DiabetesPedigreeFunction</th>\n",
              "      <th>Age</th>\n",
              "      <th>class</th>\n",
              "    </tr>\n",
              "  </thead>\n",
              "  <tbody>\n",
              "    <tr>\n",
              "      <th>0</th>\n",
              "      <td>-0.843176</td>\n",
              "      <td>-1.121354</td>\n",
              "      <td>-0.160144</td>\n",
              "      <td>0.531677</td>\n",
              "      <td>-0.693107</td>\n",
              "      <td>-0.683283</td>\n",
              "      <td>-0.364027</td>\n",
              "      <td>-0.188817</td>\n",
              "      <td>0</td>\n",
              "    </tr>\n",
              "    <tr>\n",
              "      <th>1</th>\n",
              "      <td>1.233435</td>\n",
              "      <td>1.943208</td>\n",
              "      <td>-0.263406</td>\n",
              "      <td>-1.286043</td>\n",
              "      <td>-0.693107</td>\n",
              "      <td>-1.101582</td>\n",
              "      <td>0.604306</td>\n",
              "      <td>-0.103727</td>\n",
              "      <td>1</td>\n",
              "    </tr>\n",
              "    <tr>\n",
              "      <th>2</th>\n",
              "      <td>-0.843176</td>\n",
              "      <td>-0.996270</td>\n",
              "      <td>-0.160144</td>\n",
              "      <td>0.155597</td>\n",
              "      <td>0.122277</td>\n",
              "      <td>-0.493147</td>\n",
              "      <td>-0.919084</td>\n",
              "      <td>-1.039715</td>\n",
              "      <td>0</td>\n",
              "    </tr>\n",
              "    <tr>\n",
              "      <th>3</th>\n",
              "      <td>-1.139835</td>\n",
              "      <td>0.504740</td>\n",
              "      <td>-1.502554</td>\n",
              "      <td>0.907756</td>\n",
              "      <td>0.764175</td>\n",
              "      <td>1.408213</td>\n",
              "      <td>5.479157</td>\n",
              "      <td>-0.018638</td>\n",
              "      <td>1</td>\n",
              "    </tr>\n",
              "    <tr>\n",
              "      <th>4</th>\n",
              "      <td>0.343459</td>\n",
              "      <td>-0.151952</td>\n",
              "      <td>0.252905</td>\n",
              "      <td>-1.286043</td>\n",
              "      <td>-0.693107</td>\n",
              "      <td>-0.810040</td>\n",
              "      <td>-0.816519</td>\n",
              "      <td>-0.273907</td>\n",
              "      <td>0</td>\n",
              "    </tr>\n",
              "  </tbody>\n",
              "</table>\n",
              "</div>"
            ],
            "text/plain": [
              "   Pregnancies   Glucose  ...       Age  class\n",
              "0    -0.843176 -1.121354  ... -0.188817      0\n",
              "1     1.233435  1.943208  ... -0.103727      1\n",
              "2    -0.843176 -0.996270  ... -1.039715      0\n",
              "3    -1.139835  0.504740  ... -0.018638      1\n",
              "4     0.343459 -0.151952  ... -0.273907      0\n",
              "\n",
              "[5 rows x 9 columns]"
            ]
          },
          "metadata": {
            "tags": []
          },
          "execution_count": 8
        }
      ]
    },
    {
      "cell_type": "code",
      "metadata": {
        "id": "c2bVEQAOYS3H",
        "colab_type": "code",
        "colab": {
          "base_uri": "https://localhost:8080/",
          "height": 34
        },
        "outputId": "2b3dbb01-a234-4393-9950-6082831f7b00"
      },
      "source": [
        "# Transforming dataset as an array\n",
        "values_array = standard_df.values\n",
        "type(values_array)"
      ],
      "execution_count": 10,
      "outputs": [
        {
          "output_type": "execute_result",
          "data": {
            "text/plain": [
              "numpy.ndarray"
            ]
          },
          "metadata": {
            "tags": []
          },
          "execution_count": 10
        }
      ]
    },
    {
      "cell_type": "code",
      "metadata": {
        "id": "0hveh7auYS3j",
        "colab_type": "code",
        "colab": {}
      },
      "source": [
        "# Set bootstrap iterations and size\n",
        "n_iterations = 1500\n",
        "n_size = int(len(standard_df))\n"
      ],
      "execution_count": 0,
      "outputs": []
    },
    {
      "cell_type": "code",
      "metadata": {
        "id": "br_bkxidYS3_",
        "colab_type": "code",
        "outputId": "a5113ff4-b132-4aac-9647-8fe4b2a4170a",
        "colab": {
          "base_uri": "https://localhost:8080/",
          "height": 34
        }
      },
      "source": [
        "stats = list()\n",
        "for i in range (n_iterations):\n",
        "    # prepare train and test sets for bootstrap sampling with replacement\n",
        "    train = resample(values_array, n_samples= n_size)\n",
        "    test = np.array([x for x in values_array if x.tolist() not in train.tolist() ])\n",
        "   \n",
        "# fit model\n",
        "    model = DecisionTreeClassifier(random_state = 101)\n",
        "    model.fit(train[:,:-1], train[:,-1])\n",
        "# evaluate model\n",
        "    predictions = model.predict(test[:,:-1])\n",
        "    score = accuracy_score(test[:,-1], predictions)\n",
        "    stats.append(score)\n",
        "\n",
        "# confidence intervals\n",
        "alpha = 0.95\n",
        "p = ((1.0-alpha)/2.0) * 100\n",
        "lower = max(0.0, np.percentile(stats, p))\n",
        "p = (alpha+((1.0-alpha)/2.0)) * 100\n",
        "upper = min(1.0, np.percentile(stats, p))\n",
        "\n",
        "# Print confidence interval\n",
        "print('%.1f confidence interval %.1f%% and %.1f%%' % (alpha*100, lower*100, upper*100))"
      ],
      "execution_count": 12,
      "outputs": [
        {
          "output_type": "stream",
          "text": [
            "95.0 confidence interval 64.4% and 74.4%\n"
          ],
          "name": "stdout"
        }
      ]
    },
    {
      "cell_type": "code",
      "metadata": {
        "id": "btoERGw0YS49",
        "colab_type": "code",
        "outputId": "d0dca74d-dfe5-4eb4-e01d-aaee382b65ea",
        "colab": {
          "base_uri": "https://localhost:8080/",
          "height": 34
        }
      },
      "source": [
        "# Checking Decision Tree accuracy score \n",
        "result = pd.DataFrame(stats)\n",
        "result = result.mean()*100\n",
        "print(\" Decision Tree accuracy score using bootstrap sampling: %.2f\" % result)\n"
      ],
      "execution_count": 13,
      "outputs": [
        {
          "output_type": "stream",
          "text": [
            " Decision Tree accuracy score using bootstrap sampling: 69.29\n"
          ],
          "name": "stdout"
        }
      ]
    },
    {
      "cell_type": "markdown",
      "metadata": {
        "id": "EEvFuA3CjheM",
        "colab_type": "text"
      },
      "source": [
        "As we can see bellow, we could build a confidence interval, showing that there is a 95% likelihood that the interval covers the true skill of the model.\n",
        "\n",
        "Other interesting point is that the results show a Gaussian-like distribution."
      ]
    },
    {
      "cell_type": "code",
      "metadata": {
        "id": "AvqA46Q2YS5f",
        "colab_type": "code",
        "outputId": "29f63765-c6fb-4447-b40a-68986dc7ee50",
        "colab": {
          "base_uri": "https://localhost:8080/",
          "height": 528
        }
      },
      "source": [
        "# Let's plot a Histogram to check the probability distribution\n",
        "\n",
        "plt.figure(figsize=(10,8)) \n",
        "plt.hist(stats, bins = 20,rwidth=0.9, color='#607c8e')\n",
        "plt.title('Bootstrap method\\n95% of Confidence interval  between 64.3% and 74.6%')\n",
        "plt.xlabel(\" Mean: %.2f\" % result)\n",
        "plt.ylabel('Frequency')\n",
        "plt.grid(axis='y', alpha=0.75)\n",
        "\n"
      ],
      "execution_count": 15,
      "outputs": [
        {
          "output_type": "display_data",
          "data": {
            "image/png": "[encoded data removed]",
            "text/plain": [
              "<Figure size 720x576 with 1 Axes>"
            ]
          },
          "metadata": {
            "tags": [],
            "needs_background": "light"
          }
        }
      ]
    }
  ]
}